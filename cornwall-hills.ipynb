{
 "cells": [
  {
   "cell_type": "code",
   "execution_count": 10,
   "metadata": {},
   "outputs": [],
   "source": [
    "# What is the URL to our table?\n",
    "url = \"https://en.wikipedia.org/wiki/List_of_hills_of_Cornwall\""
   ]
  },
  {
   "cell_type": "code",
   "execution_count": 11,
   "metadata": {},
   "outputs": [
    {
     "data": {
      "text/plain": [
       "3"
      ]
     },
     "execution_count": 11,
     "metadata": {},
     "output_type": "execute_result"
    }
   ],
   "source": [
    "# Use pandas to download all of the tables on the page\n",
    "import pandas as pd\n",
    "\n",
    "tables = pd.read_html(url)\n",
    "len(tables)"
   ]
  },
  {
   "cell_type": "code",
   "execution_count": 12,
   "metadata": {},
   "outputs": [
    {
     "data": {
      "text/html": [
       "<div>\n",
       "<style scoped>\n",
       "    .dataframe tbody tr th:only-of-type {\n",
       "        vertical-align: middle;\n",
       "    }\n",
       "\n",
       "    .dataframe tbody tr th {\n",
       "        vertical-align: top;\n",
       "    }\n",
       "\n",
       "    .dataframe thead th {\n",
       "        text-align: right;\n",
       "    }\n",
       "</style>\n",
       "<table border=\"1\" class=\"dataframe\">\n",
       "  <thead>\n",
       "    <tr style=\"text-align: right;\">\n",
       "      <th></th>\n",
       "      <th>Hill</th>\n",
       "      <th>Height (m)</th>\n",
       "      <th>Prom. (m)</th>\n",
       "      <th>Grid ref.</th>\n",
       "      <th>Class</th>\n",
       "      <th>Parent</th>\n",
       "      <th>Range/Region</th>\n",
       "      <th>Remarks</th>\n",
       "      <th>Image</th>\n",
       "    </tr>\n",
       "  </thead>\n",
       "  <tbody>\n",
       "    <tr>\n",
       "      <th>0</th>\n",
       "      <td>Brown Willy[1]</td>\n",
       "      <td>420</td>\n",
       "      <td>314</td>\n",
       "      <td>SX158799</td>\n",
       "      <td>Marilyn</td>\n",
       "      <td>High Willhays</td>\n",
       "      <td>Bodmin Moor</td>\n",
       "      <td>Cornwall's county top. Highest of Cornwall's 5...</td>\n",
       "      <td>NaN</td>\n",
       "    </tr>\n",
       "    <tr>\n",
       "      <th>1</th>\n",
       "      <td>Rough Tor[4]</td>\n",
       "      <td>400</td>\n",
       "      <td>87</td>\n",
       "      <td>SX145807</td>\n",
       "      <td>TuMP</td>\n",
       "      <td>Brown Willy</td>\n",
       "      <td>Bodmin Moor</td>\n",
       "      <td>Bodmin Moor's second highest summit. Site of t...</td>\n",
       "      <td>NaN</td>\n",
       "    </tr>\n",
       "  </tbody>\n",
       "</table>\n",
       "</div>"
      ],
      "text/plain": [
       "             Hill  Height (m) Prom. (m) Grid ref.    Class         Parent  \\\n",
       "0  Brown Willy[1]         420       314  SX158799  Marilyn  High Willhays   \n",
       "1    Rough Tor[4]         400        87  SX145807     TuMP    Brown Willy   \n",
       "\n",
       "  Range/Region                                            Remarks  Image  \n",
       "0  Bodmin Moor  Cornwall's county top. Highest of Cornwall's 5...    NaN  \n",
       "1  Bodmin Moor  Bodmin Moor's second highest summit. Site of t...    NaN  "
      ]
     },
     "execution_count": 12,
     "metadata": {},
     "output_type": "execute_result"
    }
   ],
   "source": [
    "# which table are you interested in?\n",
    "\n",
    "df = tables[1]\n",
    "df.head(2)\n"
   ]
  },
  {
   "cell_type": "code",
   "execution_count": 13,
   "metadata": {},
   "outputs": [
    {
     "data": {
      "text/html": [
       "<div>\n",
       "<style scoped>\n",
       "    .dataframe tbody tr th:only-of-type {\n",
       "        vertical-align: middle;\n",
       "    }\n",
       "\n",
       "    .dataframe tbody tr th {\n",
       "        vertical-align: top;\n",
       "    }\n",
       "\n",
       "    .dataframe thead th {\n",
       "        text-align: right;\n",
       "    }\n",
       "</style>\n",
       "<table border=\"1\" class=\"dataframe\">\n",
       "  <thead>\n",
       "    <tr style=\"text-align: right;\">\n",
       "      <th></th>\n",
       "      <th>index</th>\n",
       "      <th>count</th>\n",
       "    </tr>\n",
       "  </thead>\n",
       "  <tbody>\n",
       "    <tr>\n",
       "      <th>0</th>\n",
       "      <td>Bodmin Moor</td>\n",
       "      <td>20</td>\n",
       "    </tr>\n",
       "    <tr>\n",
       "      <th>1</th>\n",
       "      <td>Cornish Killas</td>\n",
       "      <td>7</td>\n",
       "    </tr>\n",
       "    <tr>\n",
       "      <th>2</th>\n",
       "      <td>West Penwith</td>\n",
       "      <td>4</td>\n",
       "    </tr>\n",
       "    <tr>\n",
       "      <th>3</th>\n",
       "      <td>Carnmenellis</td>\n",
       "      <td>3</td>\n",
       "    </tr>\n",
       "    <tr>\n",
       "      <th>4</th>\n",
       "      <td>Hensbarrow</td>\n",
       "      <td>2</td>\n",
       "    </tr>\n",
       "    <tr>\n",
       "      <th>5</th>\n",
       "      <td>West Bodmin Moor</td>\n",
       "      <td>1</td>\n",
       "    </tr>\n",
       "    <tr>\n",
       "      <th>6</th>\n",
       "      <td>East Bodmin Moor</td>\n",
       "      <td>1</td>\n",
       "    </tr>\n",
       "    <tr>\n",
       "      <th>7</th>\n",
       "      <td>Tamar Valley</td>\n",
       "      <td>1</td>\n",
       "    </tr>\n",
       "  </tbody>\n",
       "</table>\n",
       "</div>"
      ],
      "text/plain": [
       "              index  count\n",
       "0       Bodmin Moor     20\n",
       "1    Cornish Killas      7\n",
       "2      West Penwith      4\n",
       "3      Carnmenellis      3\n",
       "4        Hensbarrow      2\n",
       "5  West Bodmin Moor      1\n",
       "6  East Bodmin Moor      1\n",
       "7      Tamar Valley      1"
      ]
     },
     "execution_count": 13,
     "metadata": {},
     "output_type": "execute_result"
    }
   ],
   "source": [
    "# Count the Range/Region column and turn the value counts\n",
    "# into a dataframe with the name of the region as the column 'name'\n",
    "# and the count as the column 'count'\n",
    "updated_df = df['Range/Region'].value_counts().to_frame(name='count').reset_index()\n",
    "updated_df"
   ]
  },
  {
   "cell_type": "code",
   "execution_count": 14,
   "metadata": {},
   "outputs": [],
   "source": [
    "# to_csv will save the dataframe as a csv file\n",
    "# and index=False will remove the index column\n",
    "df.to_csv(\"hills.csv\", index=False)"
   ]
  },
  {
   "cell_type": "code",
   "execution_count": null,
   "metadata": {},
   "outputs": [],
   "source": []
  },
  {
   "cell_type": "code",
   "execution_count": null,
   "metadata": {},
   "outputs": [],
   "source": []
  }
 ],
 "metadata": {
  "kernelspec": {
   "display_name": "Python 3.11.0rc2 64-bit ('3.11.0rc2')",
   "language": "python",
   "name": "python3"
  },
  "language_info": {
   "codemirror_mode": {
    "name": "ipython",
    "version": 3
   },
   "file_extension": ".py",
   "mimetype": "text/x-python",
   "name": "python",
   "nbconvert_exporter": "python",
   "pygments_lexer": "ipython3",
   "version": "3.11.0rc2"
  },
  "orig_nbformat": 4,
  "vscode": {
   "interpreter": {
    "hash": "2940b0f369072eb2b83d9d2311c6635280482ed80ce5471425c54fb102273554"
   }
  }
 },
 "nbformat": 4,
 "nbformat_minor": 2
}
